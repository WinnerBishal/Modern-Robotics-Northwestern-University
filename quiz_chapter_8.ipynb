{
 "cells": [
  {
   "cell_type": "code",
   "execution_count": 49,
   "metadata": {},
   "outputs": [],
   "source": [
    "import numpy as np\n",
    "import modern_robotics as mr\n",
    "np.set_printoptions(suppress=True, precision=3)\n"
   ]
  },
  {
   "cell_type": "code",
   "execution_count": 50,
   "metadata": {},
   "outputs": [],
   "source": [
    "M01 = [[1, 0, 0, 0], [0, 1, 0, 0], [0, 0, 1, 0.089159], [0, 0, 0, 1]]\n",
    "M12 = [[0, 0, 1, 0.28], [0, 1, 0, 0.13585], [-1, 0, 0, 0], [0, 0, 0, 1]]\n",
    "M23 = [[1, 0, 0, 0], [0, 1, 0, -0.1197], [0, 0, 1, 0.395], [0, 0, 0, 1]]\n",
    "M34 = [[0, 0, 1, 0], [0, 1, 0, 0], [-1, 0, 0, 0.14225], [0, 0, 0, 1]]\n",
    "M45 = [[1, 0, 0, 0], [0, 1, 0, 0.093], [0, 0, 1, 0], [0, 0, 0, 1]]\n",
    "M56 = [[1, 0, 0, 0], [0, 1, 0, 0], [0, 0, 1, 0.09465], [0, 0, 0, 1]]\n",
    "M67 = [[1, 0, 0, 0], [0, 0, 1, 0.0823], [0, -1, 0, 0], [0, 0, 0, 1]]\n",
    "G1 = np.diag([0.010267495893, 0.010267495893,  0.00666, 3.7, 3.7, 3.7])\n",
    "G2 = np.diag([0.22689067591, 0.22689067591, 0.0151074, 8.393, 8.393, 8.393])\n",
    "G3 = np.diag([0.049443313556, 0.049443313556, 0.004095, 2.275, 2.275, 2.275])\n",
    "G4 = np.diag([0.111172755531, 0.111172755531, 0.21942, 1.219, 1.219, 1.219])\n",
    "G5 = np.diag([0.111172755531, 0.111172755531, 0.21942, 1.219, 1.219, 1.219])\n",
    "G6 = np.diag([0.0171364731454, 0.0171364731454, 0.033822, 0.1879, 0.1879, 0.1879])\n",
    "Glist = [G1, G2, G3, G4, G5, G6]\n",
    "Mlist = [M01, M12, M23, M34, M45, M56, M67] \n",
    "Slist = [[0,         0,         0,         0,        0,        0],\n",
    "         [0,         1,         1,         1,        0,        1],\n",
    "         [1,         0,         0,         0,       -1,        0],\n",
    "         [0, -0.089159, -0.089159, -0.089159, -0.10915, 0.005491],\n",
    "         [0,         0,         0,         0,  0.81725,        0],\n",
    "         [0,         0,     0.425,   0.81725,        0,  0.81725]]"
   ]
  },
  {
   "cell_type": "code",
   "execution_count": 51,
   "metadata": {},
   "outputs": [],
   "source": [
    "theta_list = np.array([0, np.pi/6, np.pi/4, np.pi/3, np.pi/2, 2*np.pi/3])\n",
    "dtheta_list = np.array([0.2, 0.2, 0.2, 0.2, 0.2, 0.2])\n",
    "ddtheta_lit = np.array([0.1, 0.1, 0.1, 0.1, 0.1, 0.1])\n",
    "g = np.array([0, 0, -9.81])\n",
    "Ftip = np.array([0.1, 0.1, 0.1, 0.1, 0.1, 0.1])\n"
   ]
  },
  {
   "cell_type": "code",
   "execution_count": 57,
   "metadata": {},
   "outputs": [
    {
     "name": "stdout",
     "output_type": "stream",
     "text": [
      "[array([ 2.198,  0.272,  0.068, -0.006,  0.17 , -0.012]), array([ 0.272,  3.554,  1.31 ,  0.24 , -0.007,  0.   ]), array([ 0.068,  1.31 ,  0.837,  0.248, -0.007,  0.   ]), array([-0.006,  0.24 ,  0.248,  0.254, -0.007,  0.   ]), array([ 0.17 , -0.007, -0.007, -0.007,  0.241,  0.   ]), array([-0.012,  0.   ,  0.   ,  0.   ,  0.   ,  0.017])]\n"
     ]
    }
   ],
   "source": [
    "M = mr.MassMatrix(theta_list, Mlist, Glist, Slist)\n",
    "print(list(M))"
   ]
  },
  {
   "cell_type": "code",
   "execution_count": 53,
   "metadata": {},
   "outputs": [
    {
     "name": "stdout",
     "output_type": "stream",
     "text": [
      "[-0.117 -0.011  0.032 -0.015  0.023  0.003]\n"
     ]
    }
   ],
   "source": [
    "c = mr.VelQuadraticForces(theta_list,dtheta_list,Mlist,Glist,Slist)\n",
    "print(c)"
   ]
  },
  {
   "cell_type": "code",
   "execution_count": 54,
   "metadata": {},
   "outputs": [
    {
     "name": "stdout",
     "output_type": "stream",
     "text": [
      "[  0.    -41.597  -3.936   0.123   0.      0.   ]\n"
     ]
    }
   ],
   "source": [
    "grav = mr.GravityForces(theta_list,g,Mlist,Glist,Slist)\n",
    "print(grav)"
   ]
  },
  {
   "cell_type": "code",
   "execution_count": 55,
   "metadata": {},
   "outputs": [
    {
     "name": "stdout",
     "output_type": "stream",
     "text": [
      "[-0.139 -0.077 -0.122 -0.149 -0.025  0.1  ]\n"
     ]
    }
   ],
   "source": [
    "JTFtip = mr.EndEffectorForces(theta_list, Ftip, Mlist, Glist, Slist)\n",
    "print(JTFtip)"
   ]
  },
  {
   "cell_type": "code",
   "execution_count": 56,
   "metadata": {},
   "outputs": [
    {
     "name": "stdout",
     "output_type": "stream",
     "text": [
      "[0.1   0.1   0.1   0.1   0.1   0.102]\n"
     ]
    }
   ],
   "source": [
    "tau = np.array([0.0128, -41.1477, -3.7809, 0.0323, 0.0370, 0.1034])\n",
    "acc = mr.ForwardDynamics(theta_list, dtheta_list, tau, g, Ftip, Mlist, Glist, Slist)\n",
    "print(acc)"
   ]
  }
 ],
 "metadata": {
  "kernelspec": {
   "display_name": "Python 3",
   "language": "python",
   "name": "python3"
  },
  "language_info": {
   "codemirror_mode": {
    "name": "ipython",
    "version": 3
   },
   "file_extension": ".py",
   "mimetype": "text/x-python",
   "name": "python",
   "nbconvert_exporter": "python",
   "pygments_lexer": "ipython3",
   "version": "3.10.4"
  }
 },
 "nbformat": 4,
 "nbformat_minor": 2
}
