{
 "cells": [
  {
   "cell_type": "code",
   "execution_count": 1,
   "metadata": {},
   "outputs": [],
   "source": [
    "import modern_robotics as mr\n",
    "import numpy as np"
   ]
  },
  {
   "cell_type": "code",
   "execution_count": 7,
   "metadata": {},
   "outputs": [],
   "source": [
    "s_to_b_M = np.array([[1,0,0,3.732],[0,1,0,0],[0,0.0,1,2.732],[0,0,0,1]])"
   ]
  },
  {
   "cell_type": "code",
   "execution_count": 15,
   "metadata": {},
   "outputs": [
    {
     "data": {
      "text/plain": [
       "(6, 6)"
      ]
     },
     "execution_count": 15,
     "metadata": {},
     "output_type": "execute_result"
    }
   ],
   "source": [
    "# Solved by hand using the drawing of robot structure\n",
    "screw_S = np.array([[0,0,0,0,0,0],\n",
    "                    [0,1,1,1,0,0],\n",
    "                    [1,0,0,0,0,1],\n",
    "                    [0,0,1,-0.732,0,0],\n",
    "                    [-1,0,0,0,0,-3.732],\n",
    "                    [0,1,2.732,3.732,1,0]])\n",
    "screw_S.shape"
   ]
  },
  {
   "cell_type": "code",
   "execution_count": 28,
   "metadata": {},
   "outputs": [
    {
     "data": {
      "text/plain": [
       "(6, 6)"
      ]
     },
     "execution_count": 28,
     "metadata": {},
     "output_type": "execute_result"
    }
   ],
   "source": [
    "screw_B = np.array([[0,0,0,0,0,0],\n",
    "                    [0,1,1,1,0,0],\n",
    "                    [1,0,0,0,0,1],\n",
    "                    [0,2.732,3.732,2,0,0],\n",
    "                    [2.732,0,0,0,0,0],\n",
    "                    [0,-2.732,-1,0,1,0]])\n",
    "screw_B.shape"
   ]
  },
  {
   "cell_type": "code",
   "execution_count": 25,
   "metadata": {},
   "outputs": [
    {
     "data": {
      "text/plain": [
       "(6,)"
      ]
     },
     "execution_count": 25,
     "metadata": {},
     "output_type": "execute_result"
    }
   ],
   "source": [
    "pi = np.pi\n",
    "theta_list = np.array([-pi/2, pi/2, pi/3, -pi/4, 1, pi/6])\n",
    "theta_list.shape"
   ]
  },
  {
   "cell_type": "code",
   "execution_count": 26,
   "metadata": {},
   "outputs": [
    {
     "data": {
      "text/plain": [
       "array([[ 0.5 ,  0.87,  0.  ,  1.  ],\n",
       "       [ 0.22, -0.13, -0.97, -1.9 ],\n",
       "       [-0.84,  0.48, -0.26, -4.51],\n",
       "       [ 0.  ,  0.  ,  0.  ,  1.  ]])"
      ]
     },
     "execution_count": 26,
     "metadata": {},
     "output_type": "execute_result"
    }
   ],
   "source": [
    "end_Frame = mr.FKinSpace(s_to_b_M, screw_S, theta_list)\n",
    "# Change to float with 2 decimals\n",
    "end_Frame = np.round(end_Frame, 2)\n",
    "end_Frame"
   ]
  },
  {
   "cell_type": "code",
   "execution_count": 30,
   "metadata": {},
   "outputs": [
    {
     "data": {
      "text/plain": [
       "array([[ 0.5 ,  0.87,  0.  ,  1.  ],\n",
       "       [ 0.22, -0.13, -0.97, -1.9 ],\n",
       "       [-0.84,  0.48, -0.26, -4.51],\n",
       "       [ 0.  ,  0.  ,  0.  ,  1.  ]])"
      ]
     },
     "execution_count": 30,
     "metadata": {},
     "output_type": "execute_result"
    }
   ],
   "source": [
    "end_frame_B = mr.FKinBody(s_to_b_M, screw_B, theta_list)\n",
    "# Change to float with 2 decimals\n",
    "end_frame_B = np.round(end_frame_B, 2)\n",
    "end_frame_B"
   ]
  }
 ],
 "metadata": {
  "kernelspec": {
   "display_name": "Python 3",
   "language": "python",
   "name": "python3"
  },
  "language_info": {
   "codemirror_mode": {
    "name": "ipython",
    "version": 3
   },
   "file_extension": ".py",
   "mimetype": "text/x-python",
   "name": "python",
   "nbconvert_exporter": "python",
   "pygments_lexer": "ipython3",
   "version": "3.10.4"
  }
 },
 "nbformat": 4,
 "nbformat_minor": 2
}
