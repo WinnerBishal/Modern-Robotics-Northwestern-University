{
 "cells": [
  {
   "cell_type": "code",
   "execution_count": 1,
   "metadata": {},
   "outputs": [],
   "source": [
    "import numpy as np\n",
    "import modern_robotics as mr"
   ]
  },
  {
   "cell_type": "code",
   "execution_count": 2,
   "metadata": {},
   "outputs": [
    {
     "data": {
      "text/plain": [
       "0.6825599999999996"
      ]
     },
     "execution_count": 2,
     "metadata": {},
     "output_type": "execute_result"
    }
   ],
   "source": [
    "T = 5\n",
    "t = 3\n",
    "mr.QuinticTimeScaling(Tf = T, t = t)"
   ]
  },
  {
   "cell_type": "code",
   "execution_count": 10,
   "metadata": {},
   "outputs": [
    {
     "data": {
      "text/plain": [
       "array([[ 0.04229152, -0.04057269,  0.99828116,  0.93313173],\n",
       "       [ 0.99828116,  0.04229152, -0.04057269,  1.97198558],\n",
       "       [-0.04057269,  0.99828116,  0.04229152,  2.88912137],\n",
       "       [ 0.        ,  0.        ,  0.        ,  1.        ]])"
      ]
     },
     "execution_count": 10,
     "metadata": {},
     "output_type": "execute_result"
    }
   ],
   "source": [
    "X_start = np.diag([1, 1, 1, 1])\n",
    "\n",
    "X_end = np.array([[0, 0, 1, 1],[1, 0, 0, 2],[0, 1, 0, 3],[0, 0, 0, 1]])\n",
    "\n",
    "T_f = 10\n",
    "\n",
    "mr.ScrewTrajectory(X_start, X_end, T_f, 10, method = 3)[8]"
   ]
  },
  {
   "cell_type": "code",
   "execution_count": 11,
   "metadata": {},
   "outputs": [
    {
     "data": {
      "text/plain": [
       "array([[ 0.01404133, -0.01384686,  0.99980553,  0.98846721],\n",
       "       [ 0.99980553,  0.01404133, -0.01384686,  1.97693441],\n",
       "       [-0.01384686,  0.99980553,  0.01404133,  2.96540162],\n",
       "       [ 0.        ,  0.        ,  0.        ,  1.        ]])"
      ]
     },
     "execution_count": 11,
     "metadata": {},
     "output_type": "execute_result"
    }
   ],
   "source": [
    "mr.CartesianTrajectory(X_start, X_end, T_f, 10, method = 5)[8]"
   ]
  }
 ],
 "metadata": {
  "kernelspec": {
   "display_name": "Python 3",
   "language": "python",
   "name": "python3"
  },
  "language_info": {
   "codemirror_mode": {
    "name": "ipython",
    "version": 3
   },
   "file_extension": ".py",
   "mimetype": "text/x-python",
   "name": "python",
   "nbconvert_exporter": "python",
   "pygments_lexer": "ipython3",
   "version": "3.10.4"
  }
 },
 "nbformat": 4,
 "nbformat_minor": 2
}
