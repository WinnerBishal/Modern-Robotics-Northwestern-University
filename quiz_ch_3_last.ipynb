{
 "cells": [
  {
   "cell_type": "code",
   "execution_count": 1,
   "metadata": {},
   "outputs": [],
   "source": [
    "import numpy as np\n",
    "import modern_robotics as mr"
   ]
  },
  {
   "cell_type": "code",
   "execution_count": 36,
   "metadata": {},
   "outputs": [
    {
     "data": {
      "text/plain": [
       "array([[ 1.],\n",
       "       [-3.],\n",
       "       [-2.],\n",
       "       [-3.],\n",
       "       [-1.],\n",
       "       [ 5.]])"
      ]
     },
     "execution_count": 36,
     "metadata": {},
     "output_type": "execute_result"
    }
   ],
   "source": [
    "# Create 4x4 array\n",
    "T_sa = np.array([[0, -1, 0, 0],\n",
    "                [0, 0, -1, 0],\n",
    "                [1, 0, 0, 1],\n",
    "                [0, 0, 0, 1]])\n",
    "\n",
    "T_as = mr.TransInv(T_sa)\n",
    "AdT_as = mr.Adjoint(T_as)\n",
    "\n",
    "Vs = np.array([[3, 2, 1, -1, -2, -3]]).T\n",
    "\n",
    "\n",
    "Va = AdT_as @ Vs\n",
    "Va"
   ]
  },
  {
   "cell_type": "code",
   "execution_count": 4,
   "metadata": {},
   "outputs": [
    {
     "data": {
      "text/plain": [
       "array([[ 0.        , -1.20919958, -1.20919958,  0.73639986],\n",
       "       [ 1.20919958,  0.        , -1.20919958,  0.47279972],\n",
       "       [ 1.20919958,  1.20919958,  0.        ,  0.73639986],\n",
       "       [ 0.        ,  0.        ,  0.        ,  0.        ]])"
      ]
     },
     "execution_count": 4,
     "metadata": {},
     "output_type": "execute_result"
    }
   ],
   "source": [
    "mat_T_sa = mr.MatrixLog6(T_sa)\n",
    "mat_T_sa"
   ]
  },
  {
   "cell_type": "code",
   "execution_count": 5,
   "metadata": {},
   "outputs": [
    {
     "data": {
      "text/plain": [
       "2.0943951023931957"
      ]
     },
     "execution_count": 5,
     "metadata": {},
     "output_type": "execute_result"
    }
   ],
   "source": [
    "V = mr.se3ToVec(mat_T_sa)\n",
    "[S, theta] = mr.AxisAng6(V)\n",
    "theta"
   ]
  },
  {
   "cell_type": "code",
   "execution_count": 37,
   "metadata": {},
   "outputs": [
    {
     "name": "stderr",
     "output_type": "stream",
     "text": [
      "c:\\Users\\Winner Brixman\\AppData\\Local\\Programs\\Python\\Python310\\lib\\site-packages\\modern_robotics\\core.py:88: VisibleDeprecationWarning: Creating an ndarray from ragged nested sequences (which is a list-or-tuple of lists-or-tuples-or ndarrays with different lengths or shapes) is deprecated. If you meant to do this, you must specify 'dtype=object' when creating the ndarray.\n",
      "  return np.array([[0,      -omg[2],  omg[1]],\n"
     ]
    },
    {
     "data": {
      "text/plain": [
       "array([[ 0., -2.,  1.,  3.],\n",
       "       [ 2.,  0.,  0.,  0.],\n",
       "       [-1.,  0.,  0.,  0.],\n",
       "       [ 0.,  0.,  0.,  0.]])"
      ]
     },
     "execution_count": 37,
     "metadata": {},
     "output_type": "execute_result"
    }
   ],
   "source": [
    "S_theta = np.array([[0, 1, 2, 3, 0, 0]]).T\n",
    "se3mat = mr.VecTose3(S_theta)\n",
    "# Convert dtype 'object' to 'float64' upto 2 decimals\n",
    "se3mat.astype('float64')"
   ]
  },
  {
   "cell_type": "code",
   "execution_count": 41,
   "metadata": {},
   "outputs": [
    {
     "data": {
      "text/plain": [
       "array([[-0.61727288, -0.70368982,  0.35184491,  1.05553472],\n",
       "       [ 0.70368982, -0.2938183 ,  0.64690915,  1.94072745],\n",
       "       [-0.35184491,  0.64690915,  0.67654542, -0.97036373],\n",
       "       [ 0.        ,  0.        ,  0.        ,  1.        ]])"
      ]
     },
     "execution_count": 41,
     "metadata": {},
     "output_type": "execute_result"
    }
   ],
   "source": [
    "# Raise exponential to a matrix\n",
    "mr.MatrixExp6(se3mat).astype('float64')"
   ]
  },
  {
   "cell_type": "code",
   "execution_count": 18,
   "metadata": {},
   "outputs": [
    {
     "data": {
      "text/plain": [
       "array([[-1.],\n",
       "       [ 0.],\n",
       "       [-4.],\n",
       "       [ 2.],\n",
       "       [ 0.],\n",
       "       [-1.]])"
      ]
     },
     "execution_count": 18,
     "metadata": {},
     "output_type": "execute_result"
    }
   ],
   "source": [
    "Fb = np.array([[1, 0, 0, 2, 1, 0]]).T\n",
    "T_sb = np.array([[1, 0, 0, 0],\n",
    "                 [0, 0, 1, 2],\n",
    "                [0, -1, 0, 0],\n",
    "                [0, 0, 0, 1]])\n",
    "\n",
    "Ad_t_bs = mr.Adjoint(mr.TransInv(T_sb))\n",
    "Fs = Ad_t_bs.T @ Fb\n",
    "Fs"
   ]
  },
  {
   "cell_type": "code",
   "execution_count": 19,
   "metadata": {},
   "outputs": [
    {
     "data": {
      "text/plain": [
       "array([[ 0,  1,  0,  0],\n",
       "       [-1,  0,  0,  3],\n",
       "       [ 0,  0,  1, -1],\n",
       "       [ 0,  0,  0,  1]])"
      ]
     },
     "execution_count": 19,
     "metadata": {},
     "output_type": "execute_result"
    }
   ],
   "source": [
    "T = np.array([[0, -1, 0, 3],\n",
    "                 [1, 0, 0, 0],\n",
    "                [0, 0, 1, 1],\n",
    "                [0, 0, 0, 1]])\n",
    "mr.TransInv(T)"
   ]
  },
  {
   "cell_type": "code",
   "execution_count": 26,
   "metadata": {},
   "outputs": [
    {
     "name": "stderr",
     "output_type": "stream",
     "text": [
      "c:\\Users\\Winner Brixman\\AppData\\Local\\Programs\\Python\\Python310\\lib\\site-packages\\modern_robotics\\core.py:88: VisibleDeprecationWarning: Creating an ndarray from ragged nested sequences (which is a list-or-tuple of lists-or-tuples-or ndarrays with different lengths or shapes) is deprecated. If you meant to do this, you must specify 'dtype=object' when creating the ndarray.\n",
      "  return np.array([[0,      -omg[2],  omg[1]],\n",
      "C:\\Users\\Winner Brixman\\AppData\\Local\\Temp\\ipykernel_17340\\845240614.py:2: DeprecationWarning: Converting `np.integer` or `np.signedinteger` to a dtype is deprecated. The current result is `np.dtype(np.int_)` which is not strictly correct. Note that the result depends on the system. To ensure stable results use may want to use `np.int64` or `np.int32`.\n",
      "  mr.VecTose3(V).astype(np.integer)\n"
     ]
    },
    {
     "data": {
      "text/plain": [
       "array([[ 0,  0,  0,  0],\n",
       "       [ 0,  0, -1,  2],\n",
       "       [ 0,  1,  0,  3],\n",
       "       [ 0,  0,  0,  0]])"
      ]
     },
     "execution_count": 26,
     "metadata": {},
     "output_type": "execute_result"
    }
   ],
   "source": [
    "V = np.array([[1, 0, 0, 0, 2, 3]]).T\n",
    "mr.VecTose3(V).astype(np.integer)"
   ]
  },
  {
   "cell_type": "code",
   "execution_count": 27,
   "metadata": {},
   "outputs": [
    {
     "data": {
      "text/plain": [
       "array([[1, 0, 0],\n",
       "       [1, 2, 0]])"
      ]
     },
     "execution_count": 27,
     "metadata": {},
     "output_type": "execute_result"
    }
   ],
   "source": [
    "# Q 13\n",
    "\n",
    "s = np.array([[1, 0, 0]])\n",
    "p = np.array([[0, 0, 2]])\n",
    "h = 1\n",
    "\n",
    "mr.ScrewToAxis(p, s, h)"
   ]
  },
  {
   "cell_type": "code",
   "execution_count": 49,
   "metadata": {},
   "outputs": [
    {
     "name": "stderr",
     "output_type": "stream",
     "text": [
      "C:\\Users\\Winner Brixman\\AppData\\Local\\Temp\\ipykernel_17340\\3769095143.py:8: DeprecationWarning: Converting `np.integer` or `np.signedinteger` to a dtype is deprecated. The current result is `np.dtype(np.int_)` which is not strictly correct. Note that the result depends on the system. To ensure stable results use may want to use `np.int64` or `np.int32`.\n",
      "  mr.MatrixExp6(s_theta).astype(np.integer)\n"
     ]
    },
    {
     "data": {
      "text/plain": [
       "array([[0, 0, 0, 3],\n",
       "       [0, 0, 0, 0],\n",
       "       [0, 0, 1, 1],\n",
       "       [0, 0, 0, 1]])"
      ]
     },
     "execution_count": 49,
     "metadata": {},
     "output_type": "execute_result"
    }
   ],
   "source": [
    "# Q 14\n",
    "\n",
    "s_theta = np.array([[0, -1.5708, 0, 2.3562],\n",
    "                     [1.5708, 0, 0, -2.3562],\n",
    "                     [0, 0, 0, 1],\n",
    "                     [0, 0, 0, 0]])\n",
    "\n",
    "mr.MatrixExp6(s_theta).astype(np.integer)"
   ]
  },
  {
   "cell_type": "code",
   "execution_count": 46,
   "metadata": {},
   "outputs": [
    {
     "data": {
      "text/plain": [
       "array([[ 0.        , -1.57079633,  0.        ,  2.35619449],\n",
       "       [ 1.57079633,  0.        ,  0.        , -2.35619449],\n",
       "       [ 0.        ,  0.        ,  0.        ,  1.        ],\n",
       "       [ 0.        ,  0.        ,  0.        ,  0.        ]])"
      ]
     },
     "execution_count": 46,
     "metadata": {},
     "output_type": "execute_result"
    }
   ],
   "source": [
    "# Q 15\n",
    "T = np.array([[0, -1, 0, 3],\n",
    "              [1, 0, 0, 0],\n",
    "              [0, 0, 1, 1],\n",
    "              [0, 0, 0, 1]])\n",
    "\n",
    "mr.MatrixLog6(T).astype(np.float64)"
   ]
  }
 ],
 "metadata": {
  "kernelspec": {
   "display_name": "Python 3",
   "language": "python",
   "name": "python3"
  },
  "language_info": {
   "codemirror_mode": {
    "name": "ipython",
    "version": 3
   },
   "file_extension": ".py",
   "mimetype": "text/x-python",
   "name": "python",
   "nbconvert_exporter": "python",
   "pygments_lexer": "ipython3",
   "version": "3.10.4"
  }
 },
 "nbformat": 4,
 "nbformat_minor": 2
}
