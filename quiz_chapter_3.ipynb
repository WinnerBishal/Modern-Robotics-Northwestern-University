{
 "cells": [
  {
   "cell_type": "code",
   "execution_count": 2,
   "metadata": {},
   "outputs": [],
   "source": [
    "import numpy as np\n",
    "import modern_robotics as mr"
   ]
  },
  {
   "cell_type": "code",
   "execution_count": 3,
   "metadata": {},
   "outputs": [
    {
     "data": {
      "text/plain": [
       "array([[ 0. , -0.5,  2. ],\n",
       "       [ 0.5,  0. , -1. ],\n",
       "       [-2. ,  1. ,  0. ]])"
      ]
     },
     "execution_count": 3,
     "metadata": {},
     "output_type": "execute_result"
    }
   ],
   "source": [
    "vec = np.array([1, 2, 0.5])\n",
    "mr.VecToso3(vec)"
   ]
  },
  {
   "cell_type": "code",
   "execution_count": 4,
   "metadata": {},
   "outputs": [
    {
     "data": {
      "text/plain": [
       "array([[ 0.60482045,  0.796274  , -0.01182979],\n",
       "       [ 0.46830057, -0.34361048,  0.81401868],\n",
       "       [ 0.64411707, -0.49787504, -0.58071821]])"
      ]
     },
     "execution_count": 4,
     "metadata": {},
     "output_type": "execute_result"
    }
   ],
   "source": [
    "exp_mat = np.array([[0, 0.5, -1],[-0.5, 0, 2],[1, -2, 0]])\n",
    "mr.MatrixExp3(exp_mat)"
   ]
  },
  {
   "cell_type": "code",
   "execution_count": 6,
   "metadata": {},
   "outputs": [
    {
     "name": "stdout",
     "output_type": "stream",
     "text": [
      "[[ 0.     1.209  1.209]\n",
      " [-1.209  0.     1.209]\n",
      " [-1.209 -1.209  0.   ]]\n"
     ]
    }
   ],
   "source": [
    "R = np.array([[0,0,1],[-1,0,0],[0, -1, 0]])\n",
    "ans = mr.MatrixLog3(R)\n",
    "# print ans upto 3 decimal places\n",
    "print(np.around(ans, decimals=3))"
   ]
  },
  {
   "cell_type": "code",
   "execution_count": 9,
   "metadata": {},
   "outputs": [
    {
     "name": "stdout",
     "output_type": "stream",
     "text": [
      "[[-0.294  0.647  0.704]\n",
      " [ 0.647  0.677 -0.352]\n",
      " [-0.704  0.352 -0.617]]\n"
     ]
    }
   ],
   "source": [
    "omg = np.array([1, 2, 0])\n",
    "ans = mr.MatrixExp3(mr.VecToso3(omg))\n",
    "print(np.around(ans, decimals=3))"
   ]
  }
 ],
 "metadata": {
  "kernelspec": {
   "display_name": "Python 3",
   "language": "python",
   "name": "python3"
  },
  "language_info": {
   "codemirror_mode": {
    "name": "ipython",
    "version": 3
   },
   "file_extension": ".py",
   "mimetype": "text/x-python",
   "name": "python",
   "nbconvert_exporter": "python",
   "pygments_lexer": "ipython3",
   "version": "3.10.4"
  }
 },
 "nbformat": 4,
 "nbformat_minor": 2
}
