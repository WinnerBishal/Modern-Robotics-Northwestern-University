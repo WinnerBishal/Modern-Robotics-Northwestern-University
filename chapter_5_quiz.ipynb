{
 "cells": [
  {
   "cell_type": "code",
   "execution_count": 1,
   "metadata": {},
   "outputs": [],
   "source": [
    "import numpy as np\n",
    "import modern_robotics as mr\n",
    "np.set_printoptions(suppress=True)\n"
   ]
  },
  {
   "cell_type": "code",
   "execution_count": 2,
   "metadata": {},
   "outputs": [
    {
     "data": {
      "text/plain": [
       "array([[ 1.,  1.,  1.,  1.],\n",
       "       [-1., -1., -1.,  0.],\n",
       "       [ 3.,  2.,  1.,  1.]])"
      ]
     },
     "execution_count": 2,
     "metadata": {},
     "output_type": "execute_result"
    }
   ],
   "source": [
    "# Function to calculate the Jacobian\n",
    "def compute_jacobian(theta, L1, L2, L3, L4):\n",
    "    # Calculate the sine and cosine of the sum of the angles\n",
    "    S234 = np.sin(theta[1] + theta[2] + theta[3])\n",
    "    S34 = np.sin(theta[2] + theta[3])\n",
    "    S23 = np.sin(theta[1] + theta[2])\n",
    "    S4 = np.sin(theta[3])\n",
    "    C234 = np.cos(theta[1] + theta[2] + theta[3])\n",
    "    C34 = np.cos(theta[2] + theta[3])\n",
    "    C23 = np.cos(theta[1] + theta[2])\n",
    "    C4 = np.cos(theta[3])\n",
    "\n",
    "    # Create the Jacobian matrix\n",
    "    J = np.array([[1, 1, 1, 1],\n",
    "                  [L3*S4 + L2*S34 + L1*S234, L3*S4 + L2*S34, L3*S4, 0],\n",
    "                  [L4 + L3*C4 + L2*C34 + L1*C234, L4 + L3*C4 + L2*C34, L4 + L3*C4, L4]])\n",
    "    return J\n",
    "\n",
    "# Example usage:\n",
    "# Define the angles in radians\n",
    "theta = np.radians([0, 0, 90, -90])  # Convert degrees to radians for example purposes\n",
    "\n",
    "# Define the lengths\n",
    "L1, L2, L3, L4 = 1, 1, 1, 1  # Example lengths\n",
    "\n",
    "# Compute the Jacobian\n",
    "J = compute_jacobian(theta, L1, L2, L3, L4)\n",
    "J"
   ]
  },
  {
   "cell_type": "code",
   "execution_count": 8,
   "metadata": {},
   "outputs": [
    {
     "data": {
      "text/plain": [
       "array([[ 0.,  0.,  0.],\n",
       "       [ 0.,  1.,  0.],\n",
       "       [ 1.,  0.,  0.],\n",
       "       [ 0., -2., -0.],\n",
       "       [ 0.,  0.,  0.],\n",
       "       [ 0.,  0.,  1.]])"
      ]
     },
     "execution_count": 8,
     "metadata": {},
     "output_type": "execute_result"
    }
   ],
   "source": [
    "# Space Jacobian from Spatial Screw Axes\n",
    "\n",
    "S1 = np.array([0, 0, 1, 0, 0, 0])\n",
    "S2 = np.array([1, 0, 0, 0, 2, 0])\n",
    "S3 = np.array([0, 0, 0, 0, 1, 0])\n",
    "\n",
    "S_list = np.column_stack((S1, S2, S3))\n",
    "theta_list = np.array([np.pi/2, np.pi/2, 1])\n",
    "\n",
    "mr.JacobianSpace(S_list, theta_list)"
   ]
  },
  {
   "cell_type": "code",
   "execution_count": 9,
   "metadata": {},
   "outputs": [
    {
     "data": {
      "text/plain": [
       "array([[ 0., -1.,  0.],\n",
       "       [ 0.,  0.,  0.],\n",
       "       [ 1.,  0.,  0.],\n",
       "       [ 0.,  0.,  0.],\n",
       "       [ 0.,  4.,  0.],\n",
       "       [ 0.,  0.,  1.]])"
      ]
     },
     "execution_count": 9,
     "metadata": {},
     "output_type": "execute_result"
    }
   ],
   "source": [
    "# Body Jacobian from Body Screw Axes\n",
    "\n",
    "B1 = np.array([0, 1, 0, 3, 0, 0])\n",
    "B2 = np.array([-1, 0, 0, 0, 3, 0])\n",
    "B3 = np.array([0, 0, 0, 0, 0, 1])\n",
    "\n",
    "B_list = np.column_stack((B1, B2, B3))\n",
    "\n",
    "mr.JacobianBody(B_list, theta_list)"
   ]
  },
  {
   "cell_type": "code",
   "execution_count": 5,
   "metadata": {},
   "outputs": [
    {
     "data": {
      "text/plain": [
       "array([[-0.105,  0.   ,  0.006, -0.045,  0.   ,  0.006,  0.   ],\n",
       "       [-0.889,  0.006,  0.   , -0.844,  0.006,  0.   ,  0.   ],\n",
       "       [ 0.   , -0.105,  0.889,  0.   ,  0.   ,  0.   ,  0.   ]])"
      ]
     },
     "execution_count": 5,
     "metadata": {},
     "output_type": "execute_result"
    }
   ],
   "source": [
    "# Principal Semi-Axes of linear velocity manipulability ellipsoid\n",
    "\n",
    "J_b = np.array([\n",
    "    [0,     -1,    0,     0,    -1,     0,     0],\n",
    "    [0,      0,    1,     0,     0,     1,     0],\n",
    "    [1,      0,    0,     1,     0,     0,     1],\n",
    "    [-0.105, 0,    0.006,-0.045, 0,     0.006, 0],\n",
    "    [-0.889, 0.006,0,    -0.844, 0.006, 0,     0],\n",
    "    [0,     -0.105,0.889, 0,     0,     0,     0]\n",
    "])\n",
    "\n",
    "J_b_v = J_b[3:, :] # Longest\n",
    "J_b_v"
   ]
  },
  {
   "cell_type": "code",
   "execution_count": 6,
   "metadata": {},
   "outputs": [
    {
     "data": {
      "text/plain": [
       "array([ 0.08715237,  0.99619497, -0.00022828])"
      ]
     },
     "execution_count": 6,
     "metadata": {},
     "output_type": "execute_result"
    }
   ],
   "source": [
    "A = np.dot(J_b_v, J_b_v.T)\n",
    "# Eigenvectors\n",
    "_, eigenvectors = np.linalg.eig(A)\n",
    "\n",
    "# Never output in scientific notation\n",
    "np.set_printoptions(suppress=True)\n",
    "eigenvectors[:, 1]"
   ]
  },
  {
   "cell_type": "code",
   "execution_count": 7,
   "metadata": {},
   "outputs": [
    {
     "data": {
      "text/plain": [
       "1.2305357147842984"
      ]
     },
     "execution_count": 7,
     "metadata": {},
     "output_type": "execute_result"
    }
   ],
   "source": [
    "np.sqrt(max(_))"
   ]
  }
 ],
 "metadata": {
  "kernelspec": {
   "display_name": "Python 3",
   "language": "python",
   "name": "python3"
  },
  "language_info": {
   "codemirror_mode": {
    "name": "ipython",
    "version": 3
   },
   "file_extension": ".py",
   "mimetype": "text/x-python",
   "name": "python",
   "nbconvert_exporter": "python",
   "pygments_lexer": "ipython3",
   "version": "3.10.4"
  }
 },
 "nbformat": 4,
 "nbformat_minor": 2
}
