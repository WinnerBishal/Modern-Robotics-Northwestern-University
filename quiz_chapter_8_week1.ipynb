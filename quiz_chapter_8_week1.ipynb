{
 "cells": [
  {
   "cell_type": "code",
   "execution_count": 19,
   "metadata": {},
   "outputs": [],
   "source": [
    "import numpy as np\n",
    "import modern_robotics as mr"
   ]
  },
  {
   "cell_type": "code",
   "execution_count": 20,
   "metadata": {},
   "outputs": [],
   "source": [
    "q = np.array([0, 0, -0.1])"
   ]
  },
  {
   "cell_type": "code",
   "execution_count": 21,
   "metadata": {},
   "outputs": [
    {
     "data": {
      "text/plain": [
       "array([[-1.8666, -1.8766, -1.8766],\n",
       "       [-1.8766, -1.8666, -1.8766],\n",
       "       [-1.8766, -1.8766, -1.8666]])"
      ]
     },
     "execution_count": 21,
     "metadata": {},
     "output_type": "execute_result"
    }
   ],
   "source": [
    "m_qqT = np.dot(np.matmul(q.T, q), np.eye(3)) - np.matmul(q, q.T) * 187.658\n",
    "m_qqT"
   ]
  },
  {
   "cell_type": "code",
   "execution_count": 22,
   "metadata": {},
   "outputs": [
    {
     "data": {
      "text/plain": [
       "array([[0.3753, 0.    , 0.    ],\n",
       "       [0.    , 0.3753, 0.    ],\n",
       "       [0.    , 0.    , 0.3753]])"
      ]
     },
     "execution_count": 22,
     "metadata": {},
     "output_type": "execute_result"
    }
   ],
   "source": [
    "I_s = np.diag([0.3753, 0.3753, 0.3753])\n",
    "I_s"
   ]
  },
  {
   "cell_type": "code",
   "execution_count": 23,
   "metadata": {},
   "outputs": [
    {
     "data": {
      "text/plain": [
       "array([[-1.4913, -1.8766, -1.8766],\n",
       "       [-1.8766, -1.4913, -1.8766],\n",
       "       [-1.8766, -1.8766, -1.4913]])"
      ]
     },
     "execution_count": 23,
     "metadata": {},
     "output_type": "execute_result"
    }
   ],
   "source": [
    "I_s + m_qqT"
   ]
  },
  {
   "cell_type": "code",
   "execution_count": 24,
   "metadata": {},
   "outputs": [
    {
     "data": {
      "text/plain": [
       "array([[0.0053, 0.    , 0.    ],\n",
       "       [0.    , 0.0053, 0.    ],\n",
       "       [0.    , 0.    , 0.0011]])"
      ]
     },
     "execution_count": 24,
     "metadata": {},
     "output_type": "execute_result"
    }
   ],
   "source": [
    "I_c = np.diag([0.005254, 0.005254, 0.001126])\n",
    "I_c"
   ]
  },
  {
   "cell_type": "code",
   "execution_count": 25,
   "metadata": {},
   "outputs": [
    {
     "data": {
      "text/plain": [
       "array([[-2.9773, -3.7532, -3.7532],\n",
       "       [-3.7532, -2.9773, -3.7532],\n",
       "       [-3.7532, -3.7532, -2.9814]])"
      ]
     },
     "execution_count": 25,
     "metadata": {},
     "output_type": "execute_result"
    }
   ],
   "source": [
    "I_c + 2*(I_s + m_qqT)"
   ]
  },
  {
   "cell_type": "code",
   "execution_count": 26,
   "metadata": {},
   "outputs": [],
   "source": [
    "M01 = [[1, 0, 0, 0], [0, 1, 0, 0], [0, 0, 1, 0.089159], [0, 0, 0, 1]]\n",
    "M12 = [[0, 0, 1, 0.28], [0, 1, 0, 0.13585], [-1, 0, 0, 0], [0, 0, 0, 1]]\n",
    "M23 = [[1, 0, 0, 0], [0, 1, 0, -0.1197], [0, 0, 1, 0.395], [0, 0, 0, 1]]\n",
    "M34 = [[0, 0, 1, 0], [0, 1, 0, 0], [-1, 0, 0, 0.14225], [0, 0, 0, 1]]\n",
    "M45 = [[1, 0, 0, 0], [0, 1, 0, 0.093], [0, 0, 1, 0], [0, 0, 0, 1]]\n",
    "M56 = [[1, 0, 0, 0], [0, 1, 0, 0], [0, 0, 1, 0.09465], [0, 0, 0, 1]]\n",
    "M67 = [[1, 0, 0, 0], [0, 0, 1, 0.0823], [0, -1, 0, 0], [0, 0, 0, 1]]\n",
    "G1 = np.diag([0.010267495893, 0.010267495893,  0.00666, 3.7, 3.7, 3.7])\n",
    "G2 = np.diag([0.22689067591, 0.22689067591, 0.0151074, 8.393, 8.393, 8.393])\n",
    "G3 = np.diag([0.049443313556, 0.049443313556, 0.004095, 2.275, 2.275, 2.275])\n",
    "G4 = np.diag([0.111172755531, 0.111172755531, 0.21942, 1.219, 1.219, 1.219])\n",
    "G5 = np.diag([0.111172755531, 0.111172755531, 0.21942, 1.219, 1.219, 1.219])\n",
    "G6 = np.diag([0.0171364731454, 0.0171364731454, 0.033822, 0.1879, 0.1879, 0.1879])\n",
    "Glist = [G1, G2, G3, G4, G5, G6]\n",
    "Mlist = [M01, M12, M23, M34, M45, M56, M67] \n",
    "Slist = [[0,         0,         0,         0,        0,        0],\n",
    "         [0,         1,         1,         1,        0,        1],\n",
    "         [1,         0,         0,         0,       -1,        0],\n",
    "         [0, -0.089159, -0.089159, -0.089159, -0.10915, 0.005491],\n",
    "         [0,         0,         0,         0,  0.81725,        0],\n",
    "         [0,         0,     0.425,   0.81725,        0,  0.81725]]\n",
    "\n",
    "theta_list = np.array([0, np.pi/6, np.pi/4, np.pi/3, np.pi/2, 2*np.pi/3])\n",
    "dtheta_list = np.array([0.2, 0.2, 0.2, 0.2, 0.2, 0.2])\n",
    "ddtheta_list = np.array([0.1, 0.1, 0.1, 0.1, 0.1, 0.1])\n",
    "g = np.array([0, 0, -9.81])\n",
    "F_tip = np.array([0.1, 0.1, 0.1, 0.1, 0.1, 0.1])\n",
    "\n",
    "torq_list = mr.InverseDynamics(theta_list, dtheta_list, ddtheta_list, g, F_tip, Mlist, Glist, Slist)"
   ]
  },
  {
   "cell_type": "code",
   "execution_count": 27,
   "metadata": {},
   "outputs": [
    {
     "data": {
      "text/plain": [
       "array([  0.0128, -41.1477,  -3.7809,   0.0323,   0.037 ,   0.1034])"
      ]
     },
     "execution_count": 27,
     "metadata": {},
     "output_type": "execute_result"
    }
   ],
   "source": [
    "np.set_printoptions(suppress = True, precision=4)\n",
    "torq_list"
   ]
  }
 ],
 "metadata": {
  "kernelspec": {
   "display_name": "Python 3",
   "language": "python",
   "name": "python3"
  },
  "language_info": {
   "codemirror_mode": {
    "name": "ipython",
    "version": 3
   },
   "file_extension": ".py",
   "mimetype": "text/x-python",
   "name": "python",
   "nbconvert_exporter": "python",
   "pygments_lexer": "ipython3",
   "version": "3.10.4"
  }
 },
 "nbformat": 4,
 "nbformat_minor": 2
}
