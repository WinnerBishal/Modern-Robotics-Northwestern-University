{
 "cells": [
  {
   "cell_type": "code",
   "execution_count": 7,
   "metadata": {},
   "outputs": [],
   "source": [
    "import numpy as np\n",
    "import modern_robotics as mr"
   ]
  },
  {
   "cell_type": "code",
   "execution_count": 2,
   "metadata": {},
   "outputs": [],
   "source": [
    "def newton_raphson_solver(f, df, x0, tol, max_iter):\n",
    "    x = x0\n",
    "    for i in range(max_iter):\n",
    "        x = x - f(x) / df(x)\n",
    "        if abs(f(x)) < tol:\n",
    "            return x\n",
    "    return x"
   ]
  },
  {
   "cell_type": "code",
   "execution_count": 3,
   "metadata": {},
   "outputs": [
    {
     "data": {
      "text/plain": [
       "3.4"
      ]
     },
     "execution_count": 3,
     "metadata": {},
     "output_type": "execute_result"
    }
   ],
   "source": [
    "f = lambda x: x**2 - 9\n",
    "df = lambda x: 2*x\n",
    "x0 = 1\n",
    "tol = 1e-6\n",
    "max_iter = 2\n",
    "newton_raphson_solver(f, df, x0, tol, max_iter)"
   ]
  },
  {
   "cell_type": "code",
   "execution_count": 4,
   "metadata": {},
   "outputs": [
    {
     "data": {
      "text/plain": [
       "2.05"
      ]
     },
     "execution_count": 4,
     "metadata": {},
     "output_type": "execute_result"
    }
   ],
   "source": [
    "f = lambda x: x**2 - 4\n",
    "df = lambda x: 2*x\n",
    "x0 = 1\n",
    "tol = 1e-6\n",
    "max_iter = 2\n",
    "newton_raphson_solver(f, df, x0, tol, max_iter)"
   ]
  },
  {
   "cell_type": "code",
   "execution_count": 8,
   "metadata": {},
   "outputs": [
    {
     "data": {
      "text/plain": [
       "(array([0.92519754, 0.58622516, 0.68427316]), True)"
      ]
     },
     "execution_count": 8,
     "metadata": {},
     "output_type": "execute_result"
    }
   ],
   "source": [
    "Tsd = np.array([[-0.585, -0.811,  0.   ,  0.076],\n",
    "       [ 0.811, -0.585,  0.   ,  2.608],\n",
    "       [ 0.   ,  0.   ,  1.   ,  0.   ],\n",
    "       [ 0.   ,  0.   ,  0.   ,  1.   ]])\n",
    "\n",
    "S1 = np.array([0, 0, 1, 0, 0, 0])\n",
    "S2 = np.array([0, 0, 1, 0, -1, 0])\n",
    "S3 = np.array([0, 0, 1, 0, -2, 0])\n",
    "Slist = np.column_stack((S1, S2, S3))\n",
    "M = np.array([[1, 0, 0, 3],\n",
    "             [0, 1, 0, 0],\n",
    "             [0, 0, 1, 0],\n",
    "             [0, 0, 0, 1]])\n",
    "\n",
    "e_omg = 0.001\n",
    "e_v = 0.0001\n",
    "theta_initial = np.array([0.7854, 0.7854, 0.7854])\n",
    "\n",
    "mr.IKinSpace(Slist, M, Tsd, theta_initial, e_omg, e_v)"
   ]
  }
 ],
 "metadata": {
  "kernelspec": {
   "display_name": "Python 3",
   "language": "python",
   "name": "python3"
  },
  "language_info": {
   "codemirror_mode": {
    "name": "ipython",
    "version": 3
   },
   "file_extension": ".py",
   "mimetype": "text/x-python",
   "name": "python",
   "nbconvert_exporter": "python",
   "pygments_lexer": "ipython3",
   "version": "3.10.4"
  }
 },
 "nbformat": 4,
 "nbformat_minor": 2
}
